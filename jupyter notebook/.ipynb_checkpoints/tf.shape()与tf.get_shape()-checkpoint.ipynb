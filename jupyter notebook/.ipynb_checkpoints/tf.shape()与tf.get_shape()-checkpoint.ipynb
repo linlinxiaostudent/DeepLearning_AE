{
 "cells": [
  {
   "cell_type": "code",
   "execution_count": 5,
   "metadata": {},
   "outputs": [
    {
     "name": "stdout",
     "output_type": "stream",
     "text": [
      "Tensor(\"Shape_12:0\", shape=(2,), dtype=int32)\n",
      "Tensor(\"Shape_13:0\", shape=(2,), dtype=int32)\n",
      "Tensor(\"Shape_14:0\", shape=(3,), dtype=int32)\n",
      "[2 3]\n",
      "[2 3]\n",
      "[2 3 4]\n"
     ]
    }
   ],
   "source": [
    "import tensorflow as tf\n",
    "import numpy as np\n",
    "x=tf.constant([[1,2,3],[4,5,6]])\n",
    "y =[[1,2,3],[4,5,6]]\n",
    "z= np.arange(24).reshape([2,3,4])\n",
    "sess = tf.Session()\n",
    "x_shape= tf.shape(x)\n",
    "y_shape=tf.shape(y)\n",
    "z_shape=tf.shape(z)\n",
    "print(x_shape)\n",
    "print(y_shape)\n",
    "print(z_shape)\n",
    "print(sess.run(x_shape))\n",
    "print(sess.run(y_shape))\n",
    "print(sess.run(z_shape))"
   ]
  },
  {
   "cell_type": "code",
   "execution_count": 12,
   "metadata": {},
   "outputs": [
    {
     "name": "stdout",
     "output_type": "stream",
     "text": [
      "<bound method Tensor.get_shape of <tf.Tensor 'Const_4:0' shape=(2, 3) dtype=int32>>\n",
      "(2, 3)\n",
      "[2, 3]\n"
     ]
    }
   ],
   "source": [
    "print(x.get_shape)\n",
    "print(x.get_shape())\n",
    "print(x.get_shape().as_list())\n",
    "#print(sess.run(x.get_shape))"
   ]
  },
  {
   "cell_type": "markdown",
   "metadata": {},
   "source": [
    "不能使用sess.run()是因为get_shape()返回的不是tensor，而是元组。"
   ]
  },
  {
   "cell_type": "code",
   "execution_count": 13,
   "metadata": {},
   "outputs": [
    {
     "ename": "AttributeError",
     "evalue": "'list' object has no attribute 'get_shape'",
     "output_type": "error",
     "traceback": [
      "\u001b[1;31m---------------------------------------------------------------------------\u001b[0m",
      "\u001b[1;31mAttributeError\u001b[0m                            Traceback (most recent call last)",
      "\u001b[1;32m<ipython-input-13-0ef76bb118ce>\u001b[0m in \u001b[0;36m<module>\u001b[1;34m()\u001b[0m\n\u001b[1;32m----> 1\u001b[1;33m \u001b[0mprint\u001b[0m\u001b[1;33m(\u001b[0m\u001b[0my\u001b[0m\u001b[1;33m.\u001b[0m\u001b[0mget_shape\u001b[0m\u001b[1;33m(\u001b[0m\u001b[1;33m)\u001b[0m\u001b[1;33m)\u001b[0m\u001b[1;33m\u001b[0m\u001b[0m\n\u001b[0m",
      "\u001b[1;31mAttributeError\u001b[0m: 'list' object has no attribute 'get_shape'"
     ]
    }
   ],
   "source": [
    "print(y.get_shape())"
   ]
  },
  {
   "cell_type": "code",
   "execution_count": 14,
   "metadata": {},
   "outputs": [
    {
     "ename": "AttributeError",
     "evalue": "'numpy.ndarray' object has no attribute 'get_shape'",
     "output_type": "error",
     "traceback": [
      "\u001b[1;31m---------------------------------------------------------------------------\u001b[0m",
      "\u001b[1;31mAttributeError\u001b[0m                            Traceback (most recent call last)",
      "\u001b[1;32m<ipython-input-14-07fd160b4a19>\u001b[0m in \u001b[0;36m<module>\u001b[1;34m()\u001b[0m\n\u001b[1;32m----> 1\u001b[1;33m \u001b[0mprint\u001b[0m\u001b[1;33m(\u001b[0m\u001b[0mz\u001b[0m\u001b[1;33m.\u001b[0m\u001b[0mget_shape\u001b[0m\u001b[1;33m(\u001b[0m\u001b[1;33m)\u001b[0m\u001b[1;33m)\u001b[0m\u001b[1;33m\u001b[0m\u001b[0m\n\u001b[0m",
      "\u001b[1;31mAttributeError\u001b[0m: 'numpy.ndarray' object has no attribute 'get_shape'"
     ]
    }
   ],
   "source": [
    "print(z.get_shape())"
   ]
  },
  {
   "cell_type": "markdown",
   "metadata": {},
   "source": [
    "**tf.shape(a)和a.get_shape()比较**\n",
    "\n",
    "相同点：都能得到tensor a 的尺寸\n",
    "\n",
    "不同点：tf.shape()中a数据类型可以是tensor，list，array。\n",
    "       a.get_shape()中a的数据类型只能是tensor，且返回的是一个元组。"
   ]
  }
 ],
 "metadata": {
  "kernelspec": {
   "display_name": "Python 3",
   "language": "python",
   "name": "python3"
  },
  "language_info": {
   "codemirror_mode": {
    "name": "ipython",
    "version": 3
   },
   "file_extension": ".py",
   "mimetype": "text/x-python",
   "name": "python",
   "nbconvert_exporter": "python",
   "pygments_lexer": "ipython3",
   "version": "3.5.2"
  }
 },
 "nbformat": 4,
 "nbformat_minor": 2
}
