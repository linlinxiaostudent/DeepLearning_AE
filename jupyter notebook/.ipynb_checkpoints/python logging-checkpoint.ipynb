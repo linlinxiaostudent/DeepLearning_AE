{
 "cells": [
  {
   "cell_type": "markdown",
   "metadata": {},
   "source": [
    "***Python logging 模块详解***"
   ]
  },
  {
   "cell_type": "markdown",
   "metadata": {},
   "source": [
    "**将日志打印到屏幕**"
   ]
  },
  {
   "cell_type": "code",
   "execution_count": 4,
   "metadata": {},
   "outputs": [
    {
     "name": "stderr",
     "output_type": "stream",
     "text": [
      "WARNING:root:error message\n",
      "ERROR:root:error message\n",
      "CRITICAL:root:critical message\n"
     ]
    }
   ],
   "source": [
    "import logging\n",
    "logging.debug('debug message')\n",
    "logging.info('info message')\n",
    "logging.warning('error message')\n",
    "logging.error('error message')\n",
    "logging.critical('critical message')"
   ]
  },
  {
   "cell_type": "markdown",
   "metadata": {},
   "source": [
    "默认情况下，logging将日志打印输出到屏幕，日志级别为warnng，日志级别大小关系：critical->error->warning->info->debug->notset,自己可以定义日志级别。"
   ]
  },
  {
   "cell_type": "markdown",
   "metadata": {
    "collapsed": true
   },
   "source": [
    "**通过logging.basicConfig函数对日志的输出格式及方式做相关配置**"
   ]
  },
  {
   "cell_type": "code",
   "execution_count": 19,
   "metadata": {},
   "outputs": [
    {
     "name": "stderr",
     "output_type": "stream",
     "text": [
      "WARNING:root:error message\n",
      "ERROR:root:error message\n",
      "CRITICAL:root:critical message\n"
     ]
    }
   ],
   "source": [
    "import logging\n",
    "logging.basicConfig(level=logging.DEBUG,\n",
    "                    format='%(asctime)s %(filename)s[line:%(lineno)d] %(levelname)s %(message)s',\n",
    "                    datefmt='%a, %d %b %Y %H:%M:%S',\n",
    "                    filename='myapp.log',\n",
    "                    filemode='w')\n",
    "logging.debug('debug message')\n",
    "logging.info('info message')\n",
    "logging.warning('error message')\n",
    "logging.error('error message')\n",
    "logging.critical('critical message')"
   ]
  },
  {
   "cell_type": "markdown",
   "metadata": {},
   "source": [
    "*logging.basicConfig函数各参数：*\n",
    "\n",
    "filename：指定日志文件名\n",
    "\n",
    "filemode：和filename函数意义相同，指定日志文件的打开模式，‘w’或‘a’\n",
    "\n",
    "format：指定输出的格式和内容，format可以输出很多有用的信息，\n",
    "\n",
    "%(levelno)s：打印日志级别的数值\n",
    "\n",
    "%(levelname)s：打印日志级别名称\n",
    "\n",
    "%(pathname)s：打印当前执行程序的路径\n",
    "\n",
    "%(filename)s：打印当前执行程序名\n",
    "%(funcName)s：打\n",
    "%(levelno)s：打印日志级别的数值\n",
    "%(levelno)s：打印日志级别的数值\n",
    "%(levelno)s：打印日志级别的数值\n",
    "%(levelno)s：打印日志级别的数值\n",
    "%(levelno)s：打印日志级别的数值\n",
    "%(levelno)s：打印日志级别的数值\n",
    "%(levelno)s：打印日志级别的数值\n",
    "%(levelno)s：打印日志级别的数值\n",
    "%(levelno)s：打印日志级别的数值\n"
   ]
  },
  {
   "cell_type": "code",
   "execution_count": null,
   "metadata": {
    "collapsed": true
   },
   "outputs": [],
   "source": []
  }
 ],
 "metadata": {
  "kernelspec": {
   "display_name": "Python 3",
   "language": "python",
   "name": "python3"
  },
  "language_info": {
   "codemirror_mode": {
    "name": "ipython",
    "version": 3
   },
   "file_extension": ".py",
   "mimetype": "text/x-python",
   "name": "python",
   "nbconvert_exporter": "python",
   "pygments_lexer": "ipython3",
   "version": "3.5.2"
  }
 },
 "nbformat": 4,
 "nbformat_minor": 2
}
