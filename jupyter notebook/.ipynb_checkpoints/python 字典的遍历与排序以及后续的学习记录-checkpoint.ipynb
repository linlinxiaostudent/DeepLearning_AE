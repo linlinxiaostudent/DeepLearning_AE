{
 "cells": [
  {
   "cell_type": "markdown",
   "metadata": {},
   "source": [
    "**字典的遍历**"
   ]
  },
  {
   "cell_type": "code",
   "execution_count": 5,
   "metadata": {},
   "outputs": [
    {
     "data": {
      "text/plain": [
       "dict_items([('a', 2), ('b', 3), ('c', 6)])"
      ]
     },
     "execution_count": 5,
     "metadata": {},
     "output_type": "execute_result"
    }
   ],
   "source": [
    "dict_ = {'a':2,'b':3,'c':6}\n",
    "dict.items()"
   ]
  },
  {
   "cell_type": "code",
   "execution_count": 7,
   "metadata": {},
   "outputs": [
    {
     "ename": "AttributeError",
     "evalue": "'dict' object has no attribute 'iteritems'",
     "output_type": "error",
     "traceback": [
      "\u001b[1;31m---------------------------------------------------------------------------\u001b[0m",
      "\u001b[1;31mAttributeError\u001b[0m                            Traceback (most recent call last)",
      "\u001b[1;32m<ipython-input-7-05408c3fc25a>\u001b[0m in \u001b[0;36m<module>\u001b[1;34m()\u001b[0m\n\u001b[1;32m----> 1\u001b[1;33m \u001b[0mdict_\u001b[0m\u001b[1;33m.\u001b[0m\u001b[0miteritems\u001b[0m\u001b[1;33m(\u001b[0m\u001b[1;33m)\u001b[0m\u001b[1;31m#python2中的应用\u001b[0m\u001b[1;33m\u001b[0m\u001b[0m\n\u001b[0m",
      "\u001b[1;31mAttributeError\u001b[0m: 'dict' object has no attribute 'iteritems'"
     ]
    }
   ],
   "source": [
    "dict_.iteritems()#python2中的应用"
   ]
  },
  {
   "cell_type": "code",
   "execution_count": 9,
   "metadata": {},
   "outputs": [
    {
     "name": "stdout",
     "output_type": "stream",
     "text": [
      "('a', 2)\n",
      "('b', 3)\n",
      "('c', 6)\n"
     ]
    }
   ],
   "source": [
    "for item in dict_.items():\n",
    "    print(item)"
   ]
  },
  {
   "cell_type": "markdown",
   "metadata": {},
   "source": [
    "**字典的排序**"
   ]
  },
  {
   "cell_type": "code",
   "execution_count": 21,
   "metadata": {},
   "outputs": [
    {
     "name": "stdout",
     "output_type": "stream",
     "text": [
      "['a', 'b', 'c']\n"
     ]
    }
   ],
   "source": [
    "dict_1 = sorted(dict_)\n",
    "print(dict_1)"
   ]
  },
  {
   "cell_type": "code",
   "execution_count": 22,
   "metadata": {},
   "outputs": [
    {
     "name": "stdout",
     "output_type": "stream",
     "text": [
      "[('a', 2), ('b', 3), ('c', 6)]\n"
     ]
    }
   ],
   "source": [
    "dict_1 = sorted(dict_.items())\n",
    "print(dict_1)"
   ]
  },
  {
   "cell_type": "code",
   "execution_count": 24,
   "metadata": {},
   "outputs": [
    {
     "name": "stdout",
     "output_type": "stream",
     "text": [
      "['a', 'b', 'c']\n"
     ]
    }
   ],
   "source": [
    "dict_2 = sorted(dict_,key = lambda k: dict_[k])\n",
    "print(dict_2)"
   ]
  },
  {
   "cell_type": "markdown",
   "metadata": {},
   "source": [
    "operator.itemgetter函数用于获取对象的哪些维数据参数为一些序号"
   ]
  },
  {
   "cell_type": "code",
   "execution_count": 31,
   "metadata": {},
   "outputs": [
    {
     "name": "stdout",
     "output_type": "stream",
     "text": [
      "[('dave', 'B', 10), ('jane', 'B', 12), ('john', 'A', 15)]\n",
      "[('john', 'A', 15), ('jane', 'B', 12), ('dave', 'B', 10)]\n"
     ]
    }
   ],
   "source": [
    "from operator import itemgetter\n",
    "students = [('john', 'A', 15), ('jane', 'B', 12), ('dave', 'B', 10)]\n",
    "stuends_sorted= sorted(students, key=lambda student : student[2],reverse=False)\n",
    "print(stuends_sorted)\n",
    "stuends_sorted= sorted(students, key=itemgetter(2),reverse=True)\n",
    "print(stuends_sorted)"
   ]
  },
  {
   "cell_type": "code",
   "execution_count": 34,
   "metadata": {},
   "outputs": [
    {
     "name": "stdout",
     "output_type": "stream",
     "text": [
      "[('jane', 'B', 12), ('dave', 'B', 10), ('john', 'A', 15)]\n"
     ]
    }
   ],
   "source": [
    "stuends_sorted= sorted(students, key=itemgetter(1,2),reverse=True)\n",
    "print(stuends_sorted)"
   ]
  },
  {
   "cell_type": "code",
   "execution_count": 35,
   "metadata": {
    "collapsed": true
   },
   "outputs": [],
   "source": [
    "class Student:\n",
    "    def __init__(self, name, grade, age):\n",
    "            self.name = name\n",
    "            self.grade = grade\n",
    "            self.age = age\n",
    "    def __repr__(self):\n",
    "            return repr((self.name, self.grade, self.age))\n",
    "students = [\n",
    "    Student('jane', 'B', 12),\n",
    "    Student('john', 'A', 12),\n",
    "    Student('dave', 'B', 10),\n",
    "]"
   ]
  },
  {
   "cell_type": "code",
   "execution_count": 40,
   "metadata": {},
   "outputs": [
    {
     "name": "stdout",
     "output_type": "stream",
     "text": [
      "[('dave', 'B', 10), ('jane', 'B', 12), ('john', 'A', 12)]\n",
      "[('dave', 'B', 10), ('jane', 'B', 12), ('john', 'A', 12)]\n",
      "[('dave', 'B', 10), ('john', 'A', 12), ('jane', 'B', 12)]\n"
     ]
    }
   ],
   "source": [
    "from operator import itemgetter, attrgetter\n",
    "# 对students按照年龄排序\n",
    "print(sorted(students, key=attrgetter('age')))\n",
    "# 其等价于\n",
    "print (sorted(students, key=lambda o: o.age))\n",
    "# 输出: >>> [('dave', 'B', 10), ('jane', 'B', 12), ('john', 'A', 15)]\n",
    "# 亦可以按多个key排序, 先按age再按grade排序\n",
    "print (sorted(students, key=attrgetter('age', 'grade')))\n",
    "# 输出: >>> [('dave', 'B', 10), ('john', 'A', 12), ('jane', 'B', 12)]\n",
    "#print (sorted(students, key=itemgetter('age', 'grade')))这样的用法不对"
   ]
  },
  {
   "cell_type": "markdown",
   "metadata": {},
   "source": [
    "**itertools.groupy()**把迭代器中相邻的重复的元素挑出来放在一起。itertools提供的处理全部是处理迭代功能的函数，它们的返回值不是list，而是Iterator，只有用for循环迭代的时候才真正计算。"
   ]
  },
  {
   "cell_type": "code",
   "execution_count": 49,
   "metadata": {},
   "outputs": [
    {
     "name": "stdout",
     "output_type": "stream",
     "text": [
      "[{'date': '07/01/2012', 'address': '5412 N CLARK'}, {'date': '07/02/2012', 'address': '5800 E 58TH'}, {'date': '07/02/2012', 'address': '2122 N CLARK'}, {'date': '07/02/2012', 'address': '5645 N RAVENSWOOD'}, {'date': '07/02/2012', 'address': '1060 W ADDISON'}, {'date': '07/04/2012', 'address': '5148 N CLARK'}, {'date': '07/04/2012', 'address': '1039 W GRANVILE'}]\n"
     ]
    }
   ],
   "source": [
    "rows = [{'address' :'5412 N CLARK','date':'07/01/2012'},\n",
    "        {'address' :'5148 N CLARK','date' :'07/04/2012'},\n",
    "        {'address' :'5800 E 58TH','date': '07/02/2012' },\n",
    "        {'address' :'2122 N CLARK','date': '07/02/2012'},\n",
    "        {'address' :'5645 N RAVENSWOOD','date' :'07/02/2012' },\n",
    "        {'address' :'1060 W ADDISON','date': '07/02/2012' },\n",
    "        {'address': '1039 W GRANVILE','date': '07/04/2012'}\n",
    "       ]\n",
    "\n",
    "from operator import itemgetter\n",
    "from itertools import groupby\n",
    "rows.sort(key = itemgetter('date'))\n",
    "print(rows)"
   ]
  },
  {
   "cell_type": "code",
   "execution_count": 53,
   "metadata": {},
   "outputs": [
    {
     "name": "stdout",
     "output_type": "stream",
     "text": [
      "07/01/2012\n",
      "{'date': '07/01/2012', 'address': '5412 N CLARK'}\n",
      "07/02/2012\n",
      "{'date': '07/02/2012', 'address': '5800 E 58TH'}\n",
      "{'date': '07/02/2012', 'address': '2122 N CLARK'}\n",
      "{'date': '07/02/2012', 'address': '5645 N RAVENSWOOD'}\n",
      "{'date': '07/02/2012', 'address': '1060 W ADDISON'}\n",
      "07/04/2012\n",
      "{'date': '07/04/2012', 'address': '5148 N CLARK'}\n",
      "{'date': '07/04/2012', 'address': '1039 W GRANVILE'}\n"
     ]
    }
   ],
   "source": [
    "for date ,items in groupby(rows,key = itemgetter('date')):\n",
    "    print(date)\n",
    "    for i in items:\n",
    "        print(i)"
   ]
  },
  {
   "cell_type": "code",
   "execution_count": 54,
   "metadata": {},
   "outputs": [
    {
     "name": "stdout",
     "output_type": "stream",
     "text": [
      "{'date': '07/01/2012', 'address': '5412 N CLARK'}\n",
      "{'date': '07/02/2012', 'address': '5800 E 58TH'}\n",
      "{'date': '07/02/2012', 'address': '2122 N CLARK'}\n",
      "{'date': '07/02/2012', 'address': '5645 N RAVENSWOOD'}\n",
      "{'date': '07/02/2012', 'address': '1060 W ADDISON'}\n",
      "{'date': '07/04/2012', 'address': '5148 N CLARK'}\n",
      "{'date': '07/04/2012', 'address': '1039 W GRANVILE'}\n"
     ]
    }
   ],
   "source": [
    "from collections import defaultdict\n",
    "rows_by_date = defaultdict(list)\n",
    "for row in rows:\n",
    "    print(row)\n",
    "    rows_by_date[row['date']].append(row)"
   ]
  },
  {
   "cell_type": "code",
   "execution_count": 57,
   "metadata": {},
   "outputs": [
    {
     "name": "stdout",
     "output_type": "stream",
     "text": [
      "('07/04/2012', [{'date': '07/04/2012', 'address': '5148 N CLARK'}, {'date': '07/04/2012', 'address': '1039 W GRANVILE'}])\n",
      "('07/02/2012', [{'date': '07/02/2012', 'address': '5800 E 58TH'}, {'date': '07/02/2012', 'address': '2122 N CLARK'}, {'date': '07/02/2012', 'address': '5645 N RAVENSWOOD'}, {'date': '07/02/2012', 'address': '1060 W ADDISON'}])\n",
      "('07/01/2012', [{'date': '07/01/2012', 'address': '5412 N CLARK'}])\n"
     ]
    }
   ],
   "source": [
    "for item in rows_by_date.items():\n",
    "    print(item)"
   ]
  },
  {
   "cell_type": "code",
   "execution_count": 58,
   "metadata": {},
   "outputs": [
    {
     "name": "stdout",
     "output_type": "stream",
     "text": [
      "{'date': '07/02/2012', 'address': '5800 E 58TH'}\n",
      "{'date': '07/02/2012', 'address': '2122 N CLARK'}\n",
      "{'date': '07/02/2012', 'address': '5645 N RAVENSWOOD'}\n",
      "{'date': '07/02/2012', 'address': '1060 W ADDISON'}\n"
     ]
    }
   ],
   "source": [
    "for r in rows_by_date['07/02/2012']:\n",
    "    print(r)"
   ]
  },
  {
   "cell_type": "code",
   "execution_count": null,
   "metadata": {
    "collapsed": true
   },
   "outputs": [],
   "source": []
  }
 ],
 "metadata": {
  "kernelspec": {
   "display_name": "Python 3",
   "language": "python",
   "name": "python3"
  },
  "language_info": {
   "codemirror_mode": {
    "name": "ipython",
    "version": 3
   },
   "file_extension": ".py",
   "mimetype": "text/x-python",
   "name": "python",
   "nbconvert_exporter": "python",
   "pygments_lexer": "ipython3",
   "version": "3.5.2"
  }
 },
 "nbformat": 4,
 "nbformat_minor": 2
}
