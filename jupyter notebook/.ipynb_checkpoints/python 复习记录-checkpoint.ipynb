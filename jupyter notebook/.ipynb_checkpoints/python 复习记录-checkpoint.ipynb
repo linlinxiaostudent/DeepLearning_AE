{
 "cells": [
  {
   "cell_type": "markdown",
   "metadata": {},
   "source": [
    "**python复习记录**\n",
    "\n",
    "type()：内置函数\n",
    "\n",
    "列表List:定义符号是[],一种数据结构的类。\n",
    "每个具体的列表都是一个对象，一个对象由若干元素组成的集合，元素之间被逗号（，）分割，列表的元素可以是同类型元素组成的混合列表，也可以是不同类型的元素组成的混合列表。\n",
    "\n",
    "字典Dictionary:含有映射关系数据类型，定义符号是{}，定义/调用字典中某个元素的语句和列表相同，都是方括号[<索引值>]。\n",
    "字典的索引与元素必须成对存在，且没有默认索引序列，所以字典对象并没有.append()方法可以直接增补元素。任何时候都必须显式地同步指定索引与元素。在字典中，一般称索引为键(key)，元素为值(value)。\n",
    "\n",
    "关键字in：检查元素表是否存在于特定的集合中。\n",
    "需要注意的是，in对于字典判断的是键而不是值。\n",
    "\n",
    "打开文件open():返回的是文件类的对象，需要通过read()对象转换为字符。"
   ]
  },
  {
   "cell_type": "markdown",
   "metadata": {},
   "source": [
    "正则表达式："
   ]
  },
  {
   "cell_type": "code",
   "execution_count": 1,
   "metadata": {},
   "outputs": [
    {
     "name": "stdout",
     "output_type": "stream",
     "text": [
      "敢同恶鬼争高下，不向Kaiser让寸分\n"
     ]
    }
   ],
   "source": [
    "import re \n",
    "rule = '霸王'\n",
    "replace = 'Kaiser'\n",
    "target = '敢同恶鬼争高下，不向霸王让寸分'\n",
    "print(re.sub(rule,replace,target))"
   ]
  },
  {
   "cell_type": "code",
   "execution_count": 2,
   "metadata": {},
   "outputs": [
    {
     "name": "stdout",
     "output_type": "stream",
     "text": [
      "b\n",
      "a\n",
      "c\n"
     ]
    }
   ],
   "source": [
    "a={'a':1,'b':2,'c':3}\n",
    "for i in  a :\n",
    "    print(i)\n",
    "#i是字典的键值"
   ]
  },
  {
   "cell_type": "markdown",
   "metadata": {},
   "source": [
    "**json模块**是一种轻量级的数据交换格式\n",
    "\n",
    "重要函数：编码，把一个python对象编码转换成json字符串 json.dumps()；解码，把json格式字符串解码成python对象，json.loads()"
   ]
  },
  {
   "cell_type": "markdown",
   "metadata": {},
   "source": [
    "**python读写json文件** \n",
    "\n",
    "JSON(JavaScript Object Notation) 是一种轻量级的数据交换格式。它基于ECMAScript的一个子集。 JSON采用完全独立于语言的文本格式，但是也使用了类似于C语言家族的习惯(包括C、C++、Java、JavaScript、Perl、Python等)。这些特性使JSON成为理想的数据交换语言。易于人阅读和编写，同时也易于机器解析和生成(一般用于提升网络传输速率)。\n",
    "JSON在python中分别由list和dict组成。\n",
    "这是用于序列化的两个模块：\n",
    "json: 用于字符串和python数据类型间进行转换\n",
    "pickle： 用于python特有的类型和python的数据类型间进行转换\n",
    "Json模块提供了四个功能：dumps、dump、loads、load\n",
    "pickle模块提供了四个功能：dumps、dump、loads、load\n",
    "json dumps把数据类型转换成字符串 dump把数据类型转换成字符串并存储在文件中  loads把字符串转换成数据类型  load把文件打开从字符串转换成数据类型\n",
    "json是可以在不同语言之间交换数据的，而pickle只在python之间使用。json只能序列化最基本的数据类型，josn只能把常用的数据类型序列化（列表、字典、列表、字符串、数字、），比如日期格式、类对象！josn就不行了。而pickle可以序列化所有的数据类型，包括类，函数都可以序列化。"
   ]
  },
  {
   "cell_type": "code",
   "execution_count": 9,
   "metadata": {},
   "outputs": [
    {
     "name": "stdout",
     "output_type": "stream",
     "text": [
      "{'Wilt Chamberlain': 'wilt@jizhi.im', 'Kobe Bryant': 'kobe@jizhi.im', 'LeBRON JAMES': 'lebron@jizhi.im', 'Karl Malone': 'karl@jizhi.im', 'Moses Malone': 'moses@jizhi.im', 'DIRK NOWITZKI': 'dirk@jizhi.im', 'Kareem Abdul-Jabbar': 'kareem@jizhi.im', 'Michael Jordan': 'michael@jizhi.im', \"Shaquille O'Neal\": 'shaquille@jizhi.im', 'Elvin Hayes': 'elvin@jizhi.im'}\n",
      "<class 'dict'>\n",
      "{\"Wilt Chamberlain\": \"wilt@jizhi.im\", \"Kobe Bryant\": \"kobe@jizhi.im\", \"LeBRON JAMES\": \"lebron@jizhi.im\", \"Karl Malone\": \"karl@jizhi.im\", \"Moses Malone\": \"moses@jizhi.im\", \"DIRK NOWITZKI\": \"dirk@jizhi.im\", \"Kareem Abdul-Jabbar\": \"kareem@jizhi.im\", \"Michael Jordan\": \"michael@jizhi.im\", \"Shaquille O'Neal\": \"shaquille@jizhi.im\", \"Elvin Hayes\": \"elvin@jizhi.im\"}\n",
      "<class 'str'>\n"
     ]
    }
   ],
   "source": [
    "import json\n",
    "test_dict={\"Kareem Abdul-Jabbar\":'kareem@jizhi.im',\n",
    "    \"Karl Malone\":'karl@jizhi.im',\n",
    "    \"Kobe Bryant\":'kobe@jizhi.im',\n",
    "    \"Michael Jordan\":'michael@jizhi.im',\n",
    "    \"Wilt Chamberlain\":'wilt@jizhi.im',\n",
    "    \"DIRK NOWITZKI\":'dirk@jizhi.im',\n",
    "    \"Shaquille O'Neal\":'shaquille@jizhi.im',\n",
    "    \"Moses Malone\":'moses@jizhi.im',\n",
    "    \"Elvin Hayes\":'elvin@jizhi.im',\n",
    "    \"LeBRON JAMES\":'lebron@jizhi.im'}\n",
    "print(test_dict)\n",
    "print(type(test_dict))\n",
    "json_str = json.dumps(test_dict)\n",
    "#dumps：将python中的 字典 转换为 字符串\n",
    "print(json_str)\n",
    "print(type(json_str))"
   ]
  },
  {
   "cell_type": "code",
   "execution_count": 10,
   "metadata": {},
   "outputs": [
    {
     "name": "stdout",
     "output_type": "stream",
     "text": [
      "{'Wilt Chamberlain': 'wilt@jizhi.im', 'Kobe Bryant': 'kobe@jizhi.im', 'LeBRON JAMES': 'lebron@jizhi.im', 'Karl Malone': 'karl@jizhi.im', 'Moses Malone': 'moses@jizhi.im', 'DIRK NOWITZKI': 'dirk@jizhi.im', 'Kareem Abdul-Jabbar': 'kareem@jizhi.im', 'Michael Jordan': 'michael@jizhi.im', \"Shaquille O'Neal\": 'shaquille@jizhi.im', 'Elvin Hayes': 'elvin@jizhi.im'}\n",
      "<class 'dict'>\n"
     ]
    }
   ],
   "source": [
    "new_dict = json.loads(json_str)\n",
    "print(new_dict)\n",
    "#loads: 将 字符串 转换为 字典\n",
    "print(type(new_dict))"
   ]
  },
  {
   "cell_type": "code",
   "execution_count": 12,
   "metadata": {},
   "outputs": [
    {
     "name": "stdout",
     "output_type": "stream",
     "text": [
      "{'Wilt Chamberlain': 'wilt@jizhi.im', 'Kobe Bryant': 'kobe@jizhi.im', 'LeBRON JAMES': 'lebron@jizhi.im', 'Karl Malone': 'karl@jizhi.im', 'Moses Malone': 'moses@jizhi.im', 'DIRK NOWITZKI': 'dirk@jizhi.im', 'Kareem Abdul-Jabbar': 'kareem@jizhi.im', 'Michael Jordan': 'michael@jizhi.im', \"Shaquille O'Neal\": 'shaquille@jizhi.im', 'Elvin Hayes': 'elvin@jizhi.im'}\n",
      "<class 'dict'>\n"
     ]
    }
   ],
   "source": [
    "with open ('address.json','w') as f:\n",
    "    json.dump(test_dict ,f)#dump: 将数据写入json文件中\n",
    "with open('address.json', 'r') as f:\n",
    "    test_dict = json.load(f)#load:把文件打开，并把字符串变换为数据类型\n",
    "print(test_dict)\n",
    "print(type(test_dict))"
   ]
  },
  {
   "cell_type": "markdown",
   "metadata": {},
   "source": [
    "**元组**\n",
    "和列表非常相似，可以包含若干元素，并且调用的方式都是通过方括号在[]+索引的形式。\n",
    "主要区别在于：元组用括号()定义，列表用方括号[]定义；元组不可更改；即使只有一个元素，也需要逗号，如果缺了这个逗号，得到的仍是元素本身，而不是元组；元组只能在定义时赋值，如果强行更改会得到解释器的错误。"
   ]
  },
  {
   "cell_type": "code",
   "execution_count": 3,
   "metadata": {},
   "outputs": [
    {
     "data": {
      "text/plain": [
       "(5, 6)"
      ]
     },
     "execution_count": 3,
     "metadata": {},
     "output_type": "execute_result"
    }
   ],
   "source": [
    "def sum_times(x,y):\n",
    "              return (x+y),(x*y)\n",
    "sum_times(2,3)\n",
    "#返回的值存在元组中"
   ]
  },
  {
   "cell_type": "markdown",
   "metadata": {},
   "source": [
    "**数据库**\n",
    "\n",
    "结构化存储数据的格式，为了更加灵活的处理数据，程序不再一次性将所有数据读入内存，而是根据具体需要进行查询，获得相应的数据集，完成这项工作的程序语言叫做SQL(Structured Query Language )\n",
    "\n",
    "SQL是转为查询、操作数据库所用的语言。一个数据库由若干个表(table)组成，每个表又包含行(row)和列(column),一行代表一个样本，多列定义了各个维度上的属性。\n",
    "\n",
    "python有专门处理SQLite语句的库。"
   ]
  },
  {
   "cell_type": "markdown",
   "metadata": {},
   "source": [
    "import sqlite3\n",
    "conn = sqlite3.connect('nbaallelo.db')\n",
    "cur = conn.cursor()\n",
    "\n",
    "query = 'SELECT elo_n,win_equiv FROM sheet LIMIT 5'\n",
    "\n",
    "cur.execute(query)\n",
    "elos = cur.fetchall()\n",
    "conn.close()\n",
    "\n",
    "print(elos)\n",
    "\n",
    "**连接对象**：首先是建立与数据库的联系，sqlite3.connect()将返回Connection实例对象，然后存为conn变量，此时的conn对应的是整个数据库。\n",
    "\n",
    "**游标对象**：Connection对象的.cursor()可以创建游标对象(cursor object)。游标对象可以对数据库执行SQL语句并进行更灵活的数据操作。\n",
    "\n",
    "query是纯SQL语句，通过cur.execute()实际执行，此时数据库查询的结果仍在cur对象中。最后调用cur.fetchall()将查询结果全部返回，并存至变量elos，就是最终得到的元组列表。\n",
    "\n",
    "如果只想返回一条查询结果，可以使用cur.fetchone()。"
   ]
  },
  {
   "cell_type": "markdown",
   "metadata": {},
   "source": [
    "**类**\n",
    "\n",
    "定义类的关键字是‘class’\n",
    "\n",
    "在类的代码段中，再定义一个特别的函数：__init__()，init前后各有两条下滑线，本函数用以定义属性。\n",
    "一个类有属性和方法，__init__()就是特殊的一种属性，当对象被创建时，就会被自动调用，__init__()函数以self为参数，在一个类的定义代码中，self指代的是当前创建过程中的对象。self总是init()的第一个参数，在创建对象时无需显式声明。"
   ]
  }
 ],
 "metadata": {
  "kernelspec": {
   "display_name": "Python 3",
   "language": "python",
   "name": "python3"
  },
  "language_info": {
   "codemirror_mode": {
    "name": "ipython",
    "version": 3
   },
   "file_extension": ".py",
   "mimetype": "text/x-python",
   "name": "python",
   "nbconvert_exporter": "python",
   "pygments_lexer": "ipython3",
   "version": "3.5.2"
  }
 },
 "nbformat": 4,
 "nbformat_minor": 2
}
