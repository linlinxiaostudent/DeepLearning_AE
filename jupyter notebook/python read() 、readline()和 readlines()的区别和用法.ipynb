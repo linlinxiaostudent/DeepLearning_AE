{
 "cells": [
  {
   "cell_type": "code",
   "execution_count": 1,
   "metadata": {},
   "outputs": [
    {
     "name": "stdout",
     "output_type": "stream",
     "text": [
      "Hello world\n",
      "python\n",
      "Welcome\n",
      "How are you\n",
      "\n",
      "\n",
      "<class 'str'>\n"
     ]
    }
   ],
   "source": [
    "with open('ceshi.txt','r',encoding='utf-8') as f:\n",
    "    data = f.read()\n",
    "print(data)\n",
    "print(type(data))"
   ]
  },
  {
   "cell_type": "code",
   "execution_count": 3,
   "metadata": {},
   "outputs": [
    {
     "name": "stdout",
     "output_type": "stream",
     "text": [
      "['Hello world\\n', 'python\\n', 'Welcome\\n', 'How are you\\n', '\\n']\n",
      "<class 'list'>\n"
     ]
    }
   ],
   "source": [
    "with open('ceshi.txt','r',encoding='utf-8') as f:\n",
    "    lines = f.readlines()\n",
    "print(lines)\n",
    "print(type(lines))"
   ]
  },
  {
   "cell_type": "code",
   "execution_count": 7,
   "metadata": {},
   "outputs": [
    {
     "name": "stdout",
     "output_type": "stream",
     "text": [
      "Hello world\n",
      "\n",
      "<class 'str'>\n",
      "python\n",
      "\n",
      "<class 'str'>\n",
      "Welcome\n",
      "\n",
      "<class 'str'>\n",
      "How are you\n",
      "\n",
      "<class 'str'>\n",
      "\n",
      "\n",
      "<class 'str'>\n"
     ]
    }
   ],
   "source": [
    "with open('ceshi.txt','r',encoding='utf-8') as f:\n",
    "    line = f.readline()\n",
    "    while line:\n",
    "        print(line)\n",
    "        print(type(line))\n",
    "        line= f.readline()"
   ]
  },
  {
   "cell_type": "markdown",
   "metadata": {},
   "source": [
    "**read([size])**方法从文件当前位置起读取size个字节，若无参数size，则表示读取至文件结束为止，它范围为字符串对象。\n",
    "\n",
    "**readline()**方法每次读出一行内容，所以，读取时占用内存小，比较适合大文件，该方法返回的是一个字符串对象。\n",
    "\n",
    "**readlines()**方法读出整个文件所有行内容，保存在一个列表（list）中，每行作为一个元素，但读取大文件会比较占内存。"
   ]
  },
  {
   "cell_type": "code",
   "execution_count": 9,
   "metadata": {},
   "outputs": [
    {
     "name": "stdout",
     "output_type": "stream",
     "text": [
      "python\n",
      "\n"
     ]
    }
   ],
   "source": [
    "import linecache\n",
    "text = linecache.getline('ceshi.txt',2)\n",
    "print(text)"
   ]
  },
  {
   "cell_type": "markdown",
   "metadata": {},
   "source": [
    "也可以引入linecache模块，输出文件的指定行。"
   ]
  },
  {
   "cell_type": "code",
   "execution_count": null,
   "metadata": {
    "collapsed": true
   },
   "outputs": [],
   "source": []
  }
 ],
 "metadata": {
  "kernelspec": {
   "display_name": "Python 3",
   "language": "python",
   "name": "python3"
  },
  "language_info": {
   "codemirror_mode": {
    "name": "ipython",
    "version": 3
   },
   "file_extension": ".py",
   "mimetype": "text/x-python",
   "name": "python",
   "nbconvert_exporter": "python",
   "pygments_lexer": "ipython3",
   "version": "3.5.2"
  }
 },
 "nbformat": 4,
 "nbformat_minor": 2
}
