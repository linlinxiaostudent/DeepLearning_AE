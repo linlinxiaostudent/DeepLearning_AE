{
 "cells": [
  {
   "cell_type": "markdown",
   "metadata": {},
   "source": [
    "***Python logging 模块详解***"
   ]
  },
  {
   "cell_type": "markdown",
   "metadata": {},
   "source": [
    "**将日志打印到屏幕**"
   ]
  },
  {
   "cell_type": "code",
   "execution_count": 4,
   "metadata": {},
   "outputs": [
    {
     "name": "stderr",
     "output_type": "stream",
     "text": [
      "WARNING:root:error message\n",
      "ERROR:root:error message\n",
      "CRITICAL:root:critical message\n"
     ]
    }
   ],
   "source": [
    "import logging\n",
    "logging.debug('debug message')\n",
    "logging.info('info message')\n",
    "logging.warning('error message')\n",
    "logging.error('error message')\n",
    "logging.critical('critical message')"
   ]
  },
  {
   "cell_type": "markdown",
   "metadata": {},
   "source": [
    "默认情况下，logging将日志打印输出到屏幕，日志级别为warnng，日志级别大小关系：critical->error->warning->info->debug->notset,自己可以定义日志级别。"
   ]
  },
  {
   "cell_type": "markdown",
   "metadata": {
    "collapsed": true
   },
   "source": [
    "**通过logging.basicConfig函数对日志的输出格式及方式做相关配置**"
   ]
  },
  {
   "cell_type": "code",
   "execution_count": 21,
   "metadata": {},
   "outputs": [
    {
     "name": "stderr",
     "output_type": "stream",
     "text": [
      "WARNING:root:error message\n",
      "ERROR:root:error message\n",
      "CRITICAL:root:critical message\n"
     ]
    }
   ],
   "source": [
    "import logging\n",
    "logging.basicConfig(level=logging.debug,\n",
    "                    format='%(asctime)s %(filename)s[line:%(lineno)d] %(levelname)s %(message)s',\n",
    "                    datefmt='%a, %d %b %Y %H:%M:%S',\n",
    "                    filename='myapp.log',\n",
    "                    filemode='w')\n",
    "logging.debug('debug message')\n",
    "logging.info('info message')\n",
    "logging.warning('error message')\n",
    "logging.error('error message')\n",
    "logging.critical('critical message')"
   ]
  },
  {
   "cell_type": "markdown",
   "metadata": {},
   "source": [
    "*logging.basicConfig函数各参数：*\n",
    "\n",
    "filename：指定日志文件名\n",
    "\n",
    "filemode：和filename函数意义相同，指定日志文件的打开模式，‘w’或‘a’\n",
    "\n",
    "format：指定输出的格式和内容，format可以输出很多有用的信息，\n",
    "\n",
    "%(levelno)s：打印日志级别的数值\n",
    "\n",
    "%(levelname)s：打印日志级别名称\n",
    "\n",
    "%(pathname)s：打印当前执行程序的路径\n",
    "\n",
    "%(filename)s：打印当前执行程序名\n",
    "\n",
    "%(funcName)s：打印日志的当前函数\n",
    "\n",
    "%(lineno)s：打印日志的当前行号\n",
    "\n",
    "%(asctime)s：打印日志的时间\n",
    "\n",
    "%(thread)s：打印线程ID\n",
    "\n",
    "%(threadName)s：打印线程名称\n",
    "\n",
    "%(process)s：打印进程ID\n",
    "\n",
    "%(message)s：打印日志信息 \n",
    "\n",
    "datefmt：指定时间格式，同time.strftime()\n",
    "\n",
    "level：设置日志级别，默认为logging.warning\n",
    "\n",
    "stream:指定将日志的输出流，可以指定输出到sys.stderr，sys.stdout或者文件，，默认输出到sys.stderr，当stream和filename同时指定时，stream被忽略"
   ]
  },
  {
   "cell_type": "markdown",
   "metadata": {},
   "source": [
    "**将日志同时输出到文件和屏幕**"
   ]
  },
  {
   "cell_type": "code",
   "execution_count": 27,
   "metadata": {},
   "outputs": [
    {
     "name": "stderr",
     "output_type": "stream",
     "text": [
      "WARNING:root:This is warning message\n",
      "root        : WARNING  This is warning message\n"
     ]
    }
   ],
   "source": [
    "import logging \n",
    "logging.basicConfig(level=logging.DEBUG,\n",
    "                    format='%(asctime)s %(filename)s[line:%(lineno)d] %(levelname)s %(message)s',\n",
    "                    datefmt='%a, %d %b %Y %H:%M:%S',\n",
    "                    filename='myapp.log',\n",
    "                    filemode='w')\n",
    "#################################################################################################\n",
    "#定义一个StreamHandler，将INFO级别或更高的日志信息打印到标准错误，并将其添加到当前的日志处理对象\n",
    "console=logging.StreamHandler()\n",
    "console.setLevel(logging.INFO)\n",
    "formatter=logging.Formatter('%(name)-12s: %(levelname)-8s %(message)s')\n",
    "console.setFormatter(formatter)\n",
    "logging.getLogger('').addHandler(console)\n",
    "#################################################################################################\n",
    "\n",
    "logging.debug('This is debug message')\n",
    "logging.info('This is info message')\n",
    "logging.warning('This is warning message')"
   ]
  },
  {
   "cell_type": "code",
   "execution_count": null,
   "metadata": {
    "collapsed": true
   },
   "outputs": [],
   "source": []
  }
 ],
 "metadata": {
  "kernelspec": {
   "display_name": "Python 3",
   "language": "python",
   "name": "python3"
  },
  "language_info": {
   "codemirror_mode": {
    "name": "ipython",
    "version": 3
   },
   "file_extension": ".py",
   "mimetype": "text/x-python",
   "name": "python",
   "nbconvert_exporter": "python",
   "pygments_lexer": "ipython3",
   "version": "3.5.2"
  }
 },
 "nbformat": 4,
 "nbformat_minor": 2
}
