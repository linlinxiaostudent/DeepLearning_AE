{
 "cells": [
  {
   "cell_type": "code",
   "execution_count": 16,
   "metadata": {},
   "outputs": [
    {
     "name": "stdout",
     "output_type": "stream",
     "text": [
      "新春 备 年货 ，新年 联欢晚会\n",
      "\n",
      "新春 节目单 ， 春节 联欢晚会 红火  \n",
      "\n",
      "大盘 下跌 股市 散户  \n",
      "\n",
      "下跌 股市 赚钱  \n",
      "\n",
      "金猴 新春 红火 新年  \n",
      "\n",
      "新车 新年 年货 新春  \n",
      "\n",
      "股市 反弹 下跌  \n",
      "\n",
      "股市 散户 赚钱  \n",
      "\n",
      "新年 , 看 春节 联欢晚会  \n",
      "\n",
      "大盘 下跌 散户  \n",
      "['新春 备 年货 ，新年 联欢晚会', '新春 节目单 ， 春节 联欢晚会 红火', '大盘 下跌 股市 散户', '下跌 股市 赚钱', '金猴 新春 红火 新年', '新车 新年 年货 新春', '股市 反弹 下跌', '股市 散户 赚钱', '新年 , 看 春节 联欢晚会', '大盘 下跌 散户']\n"
     ]
    }
   ],
   "source": [
    "from sklearn.feature_extraction.text import TfidfVectorizer\n",
    "from sklearn.feature_extraction.text import CountVectorizer\n",
    "from sklearn.feature_extraction.text import HashingVectorizer\n",
    "corpus = []\n",
    "with open('test.txt','r') as f:\n",
    "    for line in f.readlines():\n",
    "        print(line)\n",
    "        corpus.append(line.strip())\n",
    "    print(corpus)"
   ]
  },
  {
   "cell_type": "code",
   "execution_count": 17,
   "metadata": {},
   "outputs": [
    {
     "name": "stdout",
     "output_type": "stream",
     "text": [
      "CountVectorizer(analyzer='word', binary=False, decode_error='strict',\n",
      "        dtype=<class 'numpy.int64'>, encoding='utf-8', input='content',\n",
      "        lowercase=True, max_df=1.0, max_features=None, min_df=1,\n",
      "        ngram_range=(1, 1), preprocessor=None, stop_words=None,\n",
      "        strip_accents=None, token_pattern='(?u)\\\\b\\\\w\\\\w+\\\\b',\n",
      "        tokenizer=None, vocabulary=None)\n"
     ]
    }
   ],
   "source": [
    "tf_vectorizer = CountVectorizer()\n",
    "print(tf_vectorizer)"
   ]
  },
  {
   "cell_type": "code",
   "execution_count": 25,
   "metadata": {},
   "outputs": [
    {
     "name": "stdout",
     "output_type": "stream",
     "text": [
      "<function VectorizerMixin.build_analyzer.<locals>.<lambda> at 0x0000016D943B6B70>\n"
     ]
    }
   ],
   "source": [
    "tf = tf_vectorizer.fit_transform(corpus)\n",
    "print(tf_vectorizer.build_analyzer())"
   ]
  },
  {
   "cell_type": "code",
   "execution_count": 26,
   "metadata": {},
   "outputs": [
    {
     "name": "stdout",
     "output_type": "stream",
     "text": [
      "  (0, 10)\t1\n",
      "  (0, 5)\t1\n",
      "  (0, 3)\t1\n",
      "  (0, 6)\t1\n",
      "  (1, 9)\t1\n",
      "  (1, 8)\t1\n",
      "  (1, 12)\t1\n",
      "  (1, 10)\t1\n",
      "  (1, 6)\t1\n",
      "  (2, 4)\t1\n",
      "  (2, 11)\t1\n",
      "  (2, 0)\t1\n",
      "  (2, 2)\t1\n",
      "  (3, 13)\t1\n",
      "  (3, 11)\t1\n",
      "  (3, 0)\t1\n",
      "  (4, 14)\t1\n",
      "  (4, 9)\t1\n",
      "  (4, 5)\t1\n",
      "  (4, 6)\t1\n",
      "  (5, 7)\t1\n",
      "  (5, 5)\t1\n",
      "  (5, 3)\t1\n",
      "  (5, 6)\t1\n",
      "  (6, 1)\t1\n",
      "  (6, 11)\t1\n",
      "  (6, 0)\t1\n",
      "  (7, 13)\t1\n",
      "  (7, 4)\t1\n",
      "  (7, 11)\t1\n",
      "  (8, 8)\t1\n",
      "  (8, 10)\t1\n",
      "  (8, 5)\t1\n",
      "  (9, 4)\t1\n",
      "  (9, 0)\t1\n",
      "  (9, 2)\t1\n"
     ]
    }
   ],
   "source": [
    "print(tf)"
   ]
  },
  {
   "cell_type": "code",
   "execution_count": 28,
   "metadata": {},
   "outputs": [
    {
     "name": "stdout",
     "output_type": "stream",
     "text": [
      "[[0 0 0 1 0 1 1 0 0 0 1 0 0 0 0]\n",
      " [0 0 0 0 0 0 1 0 1 1 1 0 1 0 0]\n",
      " [1 0 1 0 1 0 0 0 0 0 0 1 0 0 0]\n",
      " [1 0 0 0 0 0 0 0 0 0 0 1 0 1 0]\n",
      " [0 0 0 0 0 1 1 0 0 1 0 0 0 0 1]\n",
      " [0 0 0 1 0 1 1 1 0 0 0 0 0 0 0]\n",
      " [1 1 0 0 0 0 0 0 0 0 0 1 0 0 0]\n",
      " [0 0 0 0 1 0 0 0 0 0 0 1 0 1 0]\n",
      " [0 0 0 0 0 1 0 0 1 0 1 0 0 0 0]\n",
      " [1 0 1 0 1 0 0 0 0 0 0 0 0 0 0]]\n"
     ]
    }
   ],
   "source": [
    "tf_array = tf.toarray()\n",
    "print(tf_array)"
   ]
  },
  {
   "cell_type": "code",
   "execution_count": 34,
   "metadata": {},
   "outputs": [
    {
     "name": "stdout",
     "output_type": "stream",
     "text": [
      "LatentDirichletAllocation(batch_size=128, doc_topic_prior=None,\n",
      "             evaluate_every=-1, learning_decay=0.7,\n",
      "             learning_method='batch', learning_offset=10.0,\n",
      "             max_doc_update_iter=100, max_iter=50, mean_change_tol=0.001,\n",
      "             n_components=2, n_jobs=1, n_topics=None, perp_tol=0.1,\n",
      "             random_state=None, topic_word_prior=None,\n",
      "             total_samples=1000000.0, verbose=0)\n",
      "[[ 0.10164519  0.89835481]\n",
      " [ 0.08547109  0.91452891]\n",
      " [ 0.89882283  0.10117717]\n",
      " [ 0.87352967  0.12647033]\n",
      " [ 0.10247277  0.89752723]\n",
      " [ 0.10247478  0.89752522]\n",
      " [ 0.87280065  0.12719935]\n",
      " [ 0.87340377  0.12659623]\n",
      " [ 0.12723265  0.87276735]\n",
      " [ 0.8734068   0.1265932 ]]\n"
     ]
    }
   ],
   "source": [
    "from sklearn.decomposition import LatentDirichletAllocation\n",
    "lda = LatentDirichletAllocation(n_components  = 2,max_iter=50,learning_method = 'batch')\n",
    "docres =lda.fit(tf_array)\n",
    "print(docres)\n",
    "docres =lda.fit_transform(tf_array)\n",
    "print(docres)"
   ]
  },
  {
   "cell_type": "code",
   "execution_count": 30,
   "metadata": {},
   "outputs": [
    {
     "name": "stdout",
     "output_type": "stream",
     "text": [
      "[[ 0.50555486  0.50578978  0.50512004  2.49380839  0.50540191  4.49322389\n",
      "   4.4940485   1.4939127   2.49338486  2.49437922  3.49351132  0.50555496\n",
      "   1.49514657  0.50586832  1.49391303]\n",
      " [ 4.49444514  1.49421022  2.49487996  0.50619161  3.49459809  0.50677611\n",
      "   0.5059515   0.5060873   0.50661514  0.50562078  0.50648868  4.49444504\n",
      "   0.50485343  2.49413168  0.50608697]]\n"
     ]
    }
   ],
   "source": [
    "print(lda.components_)"
   ]
  },
  {
   "cell_type": "code",
   "execution_count": 36,
   "metadata": {},
   "outputs": [
    {
     "name": "stdout",
     "output_type": "stream",
     "text": [
      "doc:0 topic:1\n",
      "doc:1 topic:1\n",
      "doc:2 topic:0\n",
      "doc:3 topic:0\n",
      "doc:4 topic:1\n",
      "doc:5 topic:1\n",
      "doc:6 topic:0\n",
      "doc:7 topic:0\n",
      "doc:8 topic:1\n",
      "doc:9 topic:0\n",
      "[1, 1, 0, 0, 1, 1, 0, 0, 1, 0]\n"
     ]
    }
   ],
   "source": [
    "label = []\n",
    "for n in range(10):\n",
    "    docres_tops = docres[n].argmax()\n",
    "    label.append(docres_tops)\n",
    "    print('doc:{} topic:{}'.format(n,docres_tops))\n",
    "print(label)"
   ]
  },
  {
   "cell_type": "code",
   "execution_count": 69,
   "metadata": {},
   "outputs": [
    {
     "data": {
      "image/png": "[encoded data removed]",
      "text/plain": [
       "<matplotlib.figure.Figure at 0x16d963fe128>"
      ]
     },
     "metadata": {},
     "output_type": "display_data"
    }
   ],
   "source": [
    "import matplotlib.pyplot as plt\n",
    "f,ax = plt.subplots(10,1,figsize =(8,15),sharex =True)\n",
    "for i,k in enumerate(range(0,10)):\n",
    "    ax[i].stem(docres[k,:],linefmt='r-',markerfmt='ro',basefmt='w-')#stem离散图,plot连续图\n",
    "    ax[i].set_xlim(-1,2)#x坐标下标\n",
    "    ax[i].set_ylim(0,1.2)#y坐标下标  \n",
    "    ax[i].set_title('Prob')\n",
    "    ax[i].set_title('Document{}'.format(k))\n",
    "ax[9].set_xlabel('Topic')\n",
    "plt.tight_layout()\n",
    "plt.show()"
   ]
  },
  {
   "cell_type": "code",
   "execution_count": 72,
   "metadata": {},
   "outputs": [
    {
     "data": {
      "image/png": "[encoded data removed]",
      "text/plain": [
       "<matplotlib.figure.Figure at 0x16d966492e8>"
      ]
     },
     "metadata": {},
     "output_type": "display_data"
    }
   ],
   "source": [
    "import matplotlib.pyplot as plt\n",
    "f,ax = plt.subplots(2,1,figsize =(6,6),sharex =True)\n",
    "for i,k in enumerate(range(0,2)):\n",
    "    ax[i].stem(lda.components_[k,:],linefmt='r-',markerfmt='ro',basefmt='w-')#stem离散图,plot连续图\n",
    "    ax[i].set_xlim(-2,20)#x坐标下标\n",
    "    ax[i].set_ylim(0,5)#y坐标下标  \n",
    "    ax[i].set_title('Prob')\n",
    "    ax[i].set_title('Document{}'.format(k))\n",
    "ax[1].set_xlabel('word')\n",
    "plt.tight_layout()\n",
    "plt.show()"
   ]
  },
  {
   "cell_type": "code",
   "execution_count": 73,
   "metadata": {},
   "outputs": [
    {
     "name": "stdout",
     "output_type": "stream",
     "text": [
      "['新春 备 年货 ，新年 联欢晚会', '新春 节目单 ， 春节 联欢晚会 红火', '大盘 下跌 股市 散户', '下跌 股市 赚钱', '金猴 新春 红火 新年', '新车 新年 年货 新春', '股市 反弹 下跌', '股市 散户 赚钱', '新年 , 看 春节 联欢晚会', '大盘 下跌 散户']\n",
      "(10, 15)\n",
      "  (0, 6)\t0.450929562568\n",
      "  (0, 3)\t0.579725686076\n",
      "  (0, 5)\t0.450929562568\n",
      "  (0, 10)\t0.507191470855\n",
      "  (1, 6)\t0.356735384792\n",
      "  (1, 10)\t0.401244805261\n",
      "  (1, 12)\t0.539503693426\n",
      "  (1, 8)\t0.458627428458\n",
      "  (1, 9)\t0.458627428458\n",
      "  (2, 2)\t0.579725686076\n",
      "  (2, 0)\t0.450929562568\n",
      "  (2, 11)\t0.450929562568\n",
      "  (2, 4)\t0.507191470855\n",
      "  (3, 0)\t0.523221265036\n",
      "  (3, 11)\t0.523221265036\n",
      "  (3, 13)\t0.672665604612\n",
      "  (4, 6)\t0.410305398084\n",
      "  (4, 5)\t0.410305398084\n",
      "  (4, 9)\t0.52749830162\n",
      "  (4, 14)\t0.620519542315\n",
      "  (5, 6)\t0.410305398084\n",
      "  (5, 3)\t0.52749830162\n",
      "  (5, 5)\t0.410305398084\n",
      "  (5, 7)\t0.620519542315\n",
      "  (6, 0)\t0.482964462575\n",
      "  (6, 11)\t0.482964462575\n",
      "  (6, 1)\t0.730404446714\n",
      "  (7, 11)\t0.505209504985\n",
      "  (7, 4)\t0.568243852685\n",
      "  (7, 13)\t0.649509260872\n",
      "  (8, 5)\t0.505209504985\n",
      "  (8, 10)\t0.568243852685\n",
      "  (8, 8)\t0.649509260872\n",
      "  (9, 2)\t0.649509260872\n",
      "  (9, 0)\t0.505209504985\n",
      "  (9, 4)\t0.568243852685\n"
     ]
    }
   ],
   "source": [
    "from sklearn.feature_extraction.text import TfidfVectorizer\n",
    "print(corpus)\n",
    "vector = TfidfVectorizer()\n",
    "tfidf = vector.fit_transform(corpus)\n",
    "print(tfidf.shape)\n",
    "print(tfidf)"
   ]
  },
  {
   "cell_type": "code",
   "execution_count": 75,
   "metadata": {},
   "outputs": [
    {
     "name": "stdout",
     "output_type": "stream",
     "text": [
      "['下跌', '反弹', '大盘', '年货', '散户', '新年', '新春', '新车', '春节', '红火', '联欢晚会', '股市', '节目单', '赚钱', '金猴']\n"
     ]
    }
   ],
   "source": [
    "word = tf_vectorizer.get_feature_names()\n",
    "print(word)"
   ]
  },
  {
   "cell_type": "code",
   "execution_count": 77,
   "metadata": {},
   "outputs": [
    {
     "name": "stdout",
     "output_type": "stream",
     "text": [
      "(10, 15)\n",
      "[[ 0.          0.          0.          0.57972569  0.          0.45092956\n",
      "   0.45092956  0.          0.          0.          0.50719147  0.          0.\n",
      "   0.          0.        ]\n",
      " [ 0.          0.          0.          0.          0.          0.\n",
      "   0.35673538  0.          0.45862743  0.45862743  0.40124481  0.\n",
      "   0.53950369  0.          0.        ]\n",
      " [ 0.45092956  0.          0.57972569  0.          0.50719147  0.          0.\n",
      "   0.          0.          0.          0.          0.45092956  0.          0.\n",
      "   0.        ]\n",
      " [ 0.52322127  0.          0.          0.          0.          0.          0.\n",
      "   0.          0.          0.          0.          0.52322127  0.\n",
      "   0.6726656   0.        ]\n",
      " [ 0.          0.          0.          0.          0.          0.4103054\n",
      "   0.4103054   0.          0.          0.5274983   0.          0.          0.\n",
      "   0.          0.62051954]\n",
      " [ 0.          0.          0.          0.5274983   0.          0.4103054\n",
      "   0.4103054   0.62051954  0.          0.          0.          0.          0.\n",
      "   0.          0.        ]\n",
      " [ 0.48296446  0.73040445  0.          0.          0.          0.          0.\n",
      "   0.          0.          0.          0.          0.48296446  0.          0.\n",
      "   0.        ]\n",
      " [ 0.          0.          0.          0.          0.56824385  0.          0.\n",
      "   0.          0.          0.          0.          0.5052095   0.\n",
      "   0.64950926  0.        ]\n",
      " [ 0.          0.          0.          0.          0.          0.5052095\n",
      "   0.          0.          0.64950926  0.          0.56824385  0.          0.\n",
      "   0.          0.        ]\n",
      " [ 0.5052095   0.          0.64950926  0.          0.56824385  0.          0.\n",
      "   0.          0.          0.          0.          0.          0.          0.\n",
      "   0.        ]]\n"
     ]
    }
   ],
   "source": [
    "print(tfidf.shape)\n",
    "print(tfidf.toarray())"
   ]
  },
  {
   "cell_type": "code",
   "execution_count": 78,
   "metadata": {},
   "outputs": [
    {
     "name": "stdout",
     "output_type": "stream",
     "text": [
      "['下跌', '反弹', '大盘', '年货', '散户', '新年', '新春', '新车', '春节', '红火', '联欢晚会', '股市', '节目单', '赚钱', '金猴']\n",
      "Topic #0:\n",
      "下跌 股市 散户\n",
      "Topic #1:\n",
      "新春 新年 联欢晚会\n",
      "[[ 4.4944452   1.49421043  2.49487998  0.50619141  3.49459811  0.50677646\n",
      "   0.50595184  0.50608722  0.5066153   0.50562166  0.50648867  4.49444511\n",
      "   0.50485356  2.49413171  0.50608855]\n",
      " [ 0.5055548   0.50578957  0.50512002  2.49380859  0.50540189  4.49322354\n",
      "   4.49404816  1.49391278  2.4933847   2.49437834  3.49351133  0.50555489\n",
      "   1.49514644  0.50586829  1.49391145]]\n"
     ]
    }
   ],
   "source": [
    "def print_top_words(model, feature_names, n_top_words):\n",
    "    #打印每个主题下权重较高的term\n",
    "    for topic_idx, topic in enumerate(model.components_):\n",
    "        print(\"Topic #%d:\" % topic_idx)\n",
    "        print(\" \".join([feature_names[i]\n",
    "                        for i in topic.argsort()[:-n_top_words - 1:-1]]))\n",
    "    #打印主题-词语分布矩阵\n",
    "    print (model.components_)\n",
    "\n",
    "n_top_words=3\n",
    "tf_feature_names = tf_vectorizer.get_feature_names()\n",
    "print(tf_feature_names)\n",
    "print_top_words(lda, tf_feature_names, n_top_words)"
   ]
  },
  {
   "cell_type": "code",
   "execution_count": 79,
   "metadata": {},
   "outputs": [
    {
     "name": "stdout",
     "output_type": "stream",
     "text": [
      "0\n",
      "[ 4.4944452   1.49421043  2.49487998  0.50619141  3.49459811  0.50677646\n",
      "  0.50595184  0.50608722  0.5066153   0.50562166  0.50648867  4.49444511\n",
      "  0.50485356  2.49413171  0.50608855]\n",
      "1\n",
      "[ 0.5055548   0.50578957  0.50512002  2.49380859  0.50540189  4.49322354\n",
      "  4.49404816  1.49391278  2.4933847   2.49437834  3.49351133  0.50555489\n",
      "  1.49514644  0.50586829  1.49391145]\n"
     ]
    }
   ],
   "source": [
    "for topic_idx, topic in enumerate(lda.components_):\n",
    "    print(topic_idx)\n",
    "    print(topic)"
   ]
  },
  {
   "cell_type": "code",
   "execution_count": null,
   "metadata": {
    "collapsed": true
   },
   "outputs": [],
   "source": []
  }
 ],
 "metadata": {
  "kernelspec": {
   "display_name": "Python 3",
   "language": "python",
   "name": "python3"
  },
  "language_info": {
   "codemirror_mode": {
    "name": "ipython",
    "version": 3
   },
   "file_extension": ".py",
   "mimetype": "text/x-python",
   "name": "python",
   "nbconvert_exporter": "python",
   "pygments_lexer": "ipython3",
   "version": "3.5.2"
  }
 },
 "nbformat": 4,
 "nbformat_minor": 2
}
