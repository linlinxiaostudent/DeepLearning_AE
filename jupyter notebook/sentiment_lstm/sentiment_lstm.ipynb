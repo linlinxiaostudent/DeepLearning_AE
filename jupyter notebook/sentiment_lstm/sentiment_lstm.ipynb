{
 "cells": [
  {
   "cell_type": "code",
   "execution_count": null,
   "metadata": {
    "collapsed": true
   },
   "outputs": [],
   "source": [
    "import pandas as pd\n",
    "import numpy as np\n",
    "import jieba"
   ]
  },
  {
   "cell_type": "code",
   "execution_count": null,
   "metadata": {
    "collapsed": true
   },
   "outputs": [],
   "source": [
    "from keras.preprocessing import sequence\n",
    "from keras.optimizers import SGD,RMSprop,Adagrad\n",
    "from keras.utils import np_utils\n",
    "from keras.models import Sequential\n",
    "from keras.layers.core import Dense,Dropout,Activation\n",
    "from keras.layers.embeddings import Embedding\n",
    "from keras.layers.recurrent import LSTM,GRU"
   ]
  },
  {
   "cell_type": "code",
   "execution_count": null,
   "metadata": {
    "collapsed": true
   },
   "outputs": [],
   "source": [
    "neg=pd.read_excel('neg.xls',header=None,index=None)\n",
    "pos = pd.read_excel ('pos.xls',header = None,index = None)"
   ]
  },
  {
   "cell_type": "code",
   "execution_count": null,
   "metadata": {
    "collapsed": true
   },
   "outputs": [],
   "source": [
    "print(pos.index)"
   ]
  },
  {
   "cell_type": "code",
   "execution_count": null,
   "metadata": {
    "collapsed": true
   },
   "outputs": [],
   "source": [
    "print(pos.head())"
   ]
  },
  {
   "cell_type": "code",
   "execution_count": null,
   "metadata": {
    "collapsed": true
   },
   "outputs": [],
   "source": [
    "pos['mark']=1\n",
    "neg['mark']=0\n",
    "pn =pd.concat([pos,neg],ignore_index=True)\n",
    "neglen=len(neg)\n",
    "poslen=len(pos)\n",
    "cw = lambda x: list(jieba.cut(x))\n",
    "pn['words']= pn[0].apply(cw)\n",
    "print(pn[:20])\n",
    "print(pn['word'][0:20])"
   ]
  },
  {
   "cell_type": "code",
   "execution_count": 8,
   "metadata": {},
   "outputs": [
    {
     "name": "stdout",
     "output_type": "stream",
     "text": [
      "['做', '父母', '一定', '要', '有', '刘墉', '这样', '的', '心态', '，', '不断', '地', '学习', '，', '不断', '地', '进步', '，', '不断', '地']\n"
     ]
    }
   ],
   "source": [
    "comment = pd.read_excel('sum.xls')\n",
    "comment = comment[comment['rateContent'].notnull()]\n",
    "comment['words'] =comment['rateContent'].apply(cw)\n",
    "d2v_train = pd.concat([pn['words'],comment['words']],ignore_index = True)\n",
    "w=[]\n",
    "for i in d2v_train:\n",
    "    w.extend(i)\n",
    "print(w[:20])"
   ]
  },
  {
   "cell_type": "code",
   "execution_count": 9,
   "metadata": {},
   "outputs": [
    {
     "name": "stdout",
     "output_type": "stream",
     "text": [
      "[[131885]\n",
      " [ 85960]\n",
      " [ 49352]\n",
      " ..., \n",
      " [     1]\n",
      " [     1]\n",
      " [     1]]\n",
      "Index(['，', '的', '。', '了', '是', '很', ' ', '我', '！', ',',\n",
      "       ...\n",
      "       '1118', '这六星', '傣', '尿性', '替人', '遮遮掩掩', '一鼓酸', '挺美', '变变', '称科健'],\n",
      "      dtype='object', length=52964)\n"
     ]
    }
   ],
   "source": [
    "dict = pd.DataFrame(pd.Series(w).value_counts())\n",
    "#print(dict[:20])\n",
    "print(dict.values)\n",
    "print(dict.index)"
   ]
  },
  {
   "cell_type": "code",
   "execution_count": 10,
   "metadata": {},
   "outputs": [
    {
     "name": "stdout",
     "output_type": "stream",
     "text": [
      "，           1\n",
      "的           2\n",
      "。           3\n",
      "了           4\n",
      "是           5\n",
      "很           6\n",
      "            7\n",
      "我           8\n",
      "！           9\n",
      ",          10\n",
      "也          11\n",
      "好          12\n",
      "在          13\n",
      "不          14\n",
      "还          15\n",
      "都          16\n",
      "就          17\n",
      "有          18\n",
      "不错         19\n",
      ".          20\n",
      "没有         21\n",
      "这          22\n",
      "和          23\n",
      "、          24\n",
      "买          25\n",
      "酒店         26\n",
      "看          27\n",
      "安装         28\n",
      "人          29\n",
      "说          30\n",
      "        ...  \n",
      "恶性事故    52935\n",
      "用脑      52936\n",
      "12L     52937\n",
      "出出进进    52938\n",
      "邻居们     52939\n",
      "利用软件    52940\n",
      "京东方     52941\n",
      "轰炸      52942\n",
      "789     52943\n",
      "结认      52944\n",
      "污斑      52945\n",
      "查不多     52946\n",
      "插地      52947\n",
      "北陵      52948\n",
      "彪       52949\n",
      "进口设备    52950\n",
      "叮当声     52951\n",
      "全差评     52952\n",
      "提别      52953\n",
      "钻孔      52954\n",
      "1118    52955\n",
      "这六星     52956\n",
      "傣       52957\n",
      "尿性      52958\n",
      "替人      52959\n",
      "遮遮掩掩    52960\n",
      "一鼓酸     52961\n",
      "挺美      52962\n",
      "变变      52963\n",
      "称科健     52964\n",
      "Name: id, Length: 52964, dtype: int64\n"
     ]
    }
   ],
   "source": [
    "dict['id']= list(range(1,len(dict)+1))\n",
    "print(dict['id'])\n",
    "get_sent = lambda x: list(dict['id'][x])"
   ]
  },
  {
   "cell_type": "code",
   "execution_count": 11,
   "metadata": {
    "collapsed": true
   },
   "outputs": [],
   "source": [
    "pn['sent'] = pn['words'].apply(get_sent) #速度太慢，求出现的排名\n",
    "maxlen = 50"
   ]
  },
  {
   "cell_type": "code",
   "execution_count": 12,
   "metadata": {},
   "outputs": [
    {
     "name": "stdout",
     "output_type": "stream",
     "text": [
      "Pad sequences( samples x time)\n"
     ]
    }
   ],
   "source": [
    "print('Pad sequences( samples x time)')"
   ]
  },
  {
   "cell_type": "code",
   "execution_count": 13,
   "metadata": {
    "collapsed": true
   },
   "outputs": [],
   "source": [
    "pn['sent'] = list(sequence.pad_sequences(pn['sent'],maxlen = maxlen))"
   ]
  },
  {
   "cell_type": "code",
   "execution_count": null,
   "metadata": {
    "collapsed": true
   },
   "outputs": [],
   "source": [
    "x = np.array(list(pn['sent']))[::2]#训练集\n",
    "y = np.array(list(pn['mark']))[::2]\n",
    "xt = np.array(list(pn['sent']))[1::2] #测试集\n",
    "yt = np.array(list(pn['mark']))[1::2]\n",
    "xa = np.array(list(pn['sent'])) #全集\n",
    "ya = np.array(list(pn['mark']))"
   ]
  },
  {
   "cell_type": "code",
   "execution_count": null,
   "metadata": {},
   "outputs": [
    {
     "name": "stdout",
     "output_type": "stream",
     "text": [
      "Build model...\n",
      "Epoch 1/1\n",
      "  565/21105 [..............................] - ETA: 9677s - loss: 0.6773 - acc: 0.5611"
     ]
    }
   ],
   "source": [
    "print('Build model...')\n",
    "model = Sequential()\n",
    "model.add(Embedding(len(dict) + 1, 256))\n",
    "model.add(LSTM(128))  # try using a GRU instead, for fun\n",
    "model.add(Dropout(0.5))\n",
    "model.add(Dense(1))\n",
    "model.add(Activation('sigmoid'))\n",
    "model.compile(loss='binary_crossentropy',optimizer='adam',metrics=['accuracy'])\n",
    "\n",
    "model.fit(xa, ya, batch_size=1, epochs=1 )  # 训练时间为若干个小时\n",
    "\n",
    "classes = model.predict_classes(xa)\n",
    "acc = np_utils.accuracy(classes, yt)\n",
    "\n",
    "print('Test accuracy:',acc)"
   ]
  },
  {
   "cell_type": "code",
   "execution_count": null,
   "metadata": {
    "collapsed": true
   },
   "outputs": [],
   "source": []
  }
 ],
 "metadata": {
  "kernelspec": {
   "display_name": "Python 3",
   "language": "python",
   "name": "python3"
  },
  "language_info": {
   "codemirror_mode": {
    "name": "ipython",
    "version": 3
   },
   "file_extension": ".py",
   "mimetype": "text/x-python",
   "name": "python",
   "nbconvert_exporter": "python",
   "pygments_lexer": "ipython3",
   "version": "3.5.2"
  }
 },
 "nbformat": 4,
 "nbformat_minor": 2
}
